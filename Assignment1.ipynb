{
  "nbformat": 4,
  "nbformat_minor": 0,
  "metadata": {
    "colab": {
      "provenance": []
    },
    "kernelspec": {
      "name": "python3",
      "display_name": "Python 3"
    },
    "language_info": {
      "name": "python"
    }
  },
  "cells": [
    {
      "cell_type": "markdown",
      "source": [
        "Q)1.  explain the key features of Python that take it a popular choice for programming\n",
        "\n",
        "Ans). 1). Python is an easy to use programming language because of it`s simple syntax and readable code.\n",
        "\n",
        "2). It has vast set of libraries.\n",
        "\n",
        "3). It has a very vast community.\n",
        "\n",
        "4). huge uses in various industries like web development , data science , automation, IOT and many more.\n"
      ],
      "metadata": {
        "id": "s8APe8AXTBxm"
      }
    },
    {
      "cell_type": "markdown",
      "source": [
        "Q2). Describe the role of predefined keywords in Python and provide examples of how they are used in a program.\n",
        "\n",
        "ANS) Predefined keywords in Python are reserved words that have special meanings and uses.\n",
        "keywords cannot used as names for variables, functions, or other identifiers\n",
        "ex: \"if\" , \"else\" , \"for\" , \"def\" , \"class\"."
      ],
      "metadata": {
        "id": "T2yJBitMTa8v"
      }
    },
    {
      "cell_type": "markdown",
      "source": [
        "Q3). Compare and contrast mutable and immutable objects in Python with examples.\n",
        "\n",
        "Ans. mutable means which can be changable and immutable means which canot be changed\n",
        "\n",
        "ex of mutable objects are lists , dictionaries , sets , bytes\n",
        "\n",
        "ex of immutable objects are strings , tuples , integers\n",
        "\n",
        "at memory level we have the following change : Mutable objects may modify their contents without changing memory location,\n",
        "while immutable objects will always create new objects upon modification."
      ],
      "metadata": {
        "id": "mnJzyCAcT89s"
      }
    },
    {
      "cell_type": "code",
      "source": [
        "a = [ 10,14,17,18]\n",
        "a[0] = 8\n",
        "print(a , \" a[0] changed\")"
      ],
      "metadata": {
        "colab": {
          "base_uri": "https://localhost:8080/"
        },
        "id": "-lxUp9snO882",
        "outputId": "1c0abefc-8eef-4604-9122-1edb5a3de644"
      },
      "execution_count": 1,
      "outputs": [
        {
          "output_type": "stream",
          "name": "stdout",
          "text": [
            "[8, 14, 17, 18]  a[0] changed\n"
          ]
        }
      ]
    },
    {
      "cell_type": "markdown",
      "source": [
        "Q)4.Discuss the different types of operators in Python and provide examples of how they are used.\n",
        "\n",
        "Ans).1).Arithmetic Operators : + , - , / , *\n",
        "\n",
        "2).Comparison Operators : == , != , > , < , >= , <=\n",
        "\n",
        "3).Logical Operators: and , or , not\n",
        "\n",
        "4).Assignment Operators: = , += , -= , *= , /=\n",
        "\n",
        "5).bit wise operators : & , ^ , !\n",
        "\n",
        "6).identity operators : is, isnot\n",
        "\n",
        "7).Membership Operators: in & not in"
      ],
      "metadata": {
        "id": "W3Ujtj4QVIxy"
      }
    },
    {
      "cell_type": "code",
      "source": [
        "a = 10\n",
        "b = 20\n",
        "sum = a+b\n",
        "print(sum)"
      ],
      "metadata": {
        "colab": {
          "base_uri": "https://localhost:8080/"
        },
        "id": "LGxEVgqWO8_y",
        "outputId": "96d56889-db36-4eaf-873b-c0f289273c63"
      },
      "execution_count": 2,
      "outputs": [
        {
          "output_type": "stream",
          "name": "stdout",
          "text": [
            "30\n"
          ]
        }
      ]
    },
    {
      "cell_type": "markdown",
      "source": [
        "Q5). Explain the concept of type casting in Python with examples\n",
        "\n",
        "Ans). Type casting in Python means to converting one data type into another. Python has built-in functions to change between different data types, allowing you to convert variables and expressions from one type to another ex: int() – Converts to integer. float() – Converts to float. str() – Converts to string. list() – Converts to a list. tuple() – Converts to a tuple. set() – Converts to a set."
      ],
      "metadata": {
        "id": "6U_0BzFCW79R"
      }
    },
    {
      "cell_type": "code",
      "source": [
        "x = 11\n",
        "y = float(x)\n",
        "print(type(x)  , print(type(y)))"
      ],
      "metadata": {
        "colab": {
          "base_uri": "https://localhost:8080/"
        },
        "id": "c8-djDCYO9CH",
        "outputId": "97454064-96f9-4f13-f5ce-9ea1a86c8d4a"
      },
      "execution_count": 3,
      "outputs": [
        {
          "output_type": "stream",
          "name": "stdout",
          "text": [
            "<class 'float'>\n",
            "<class 'int'> None\n"
          ]
        }
      ]
    },
    {
      "cell_type": "markdown",
      "source": [
        "Q6). How do conditional statements work in Python? Illustrate with example\n",
        "\n",
        "ANS) Conditional statements in Python allow you to execute code based on certain conditions. These statements check whether an expression evaluates to True or False and execute specific blocks of code accordingly. The main conditional statements in Python are:\n",
        "\n",
        "if: Executes a block of code if a condition is true. elif: Checks additional conditions if the previous if condition is false. else: Executes a block of code if none of the previous conditions are true."
      ],
      "metadata": {
        "id": "WQYhJ2ZWXcZz"
      }
    },
    {
      "cell_type": "code",
      "source": [
        "age = 29\n",
        "\n",
        "if age < 18:\n",
        "    print(\"You are a minor.\")\n",
        "elif age >= 18 and age < 65:\n",
        "    print(\"You are an adult.\")\n",
        "else:\n",
        "    print(\"You are a senior citizen.\")"
      ],
      "metadata": {
        "colab": {
          "base_uri": "https://localhost:8080/"
        },
        "id": "7z3JublMO9EU",
        "outputId": "b48cfce6-35e6-4699-f727-6bf50bf4d7fc"
      },
      "execution_count": 4,
      "outputs": [
        {
          "output_type": "stream",
          "name": "stdout",
          "text": [
            "You are an adult.\n"
          ]
        }
      ]
    },
    {
      "cell_type": "markdown",
      "source": [
        "8)Describe the different types of loops in Python and their use cases with examples.\n",
        "\n",
        "for loop and the while loop\n",
        "\n",
        "\n"
      ],
      "metadata": {
        "id": "ooarMkbXYCCy"
      }
    },
    {
      "cell_type": "code",
      "source": [
        "fruits = [\"Mango\", \"banana\", \"cherry\"]\n",
        "for fruit in fruits:\n",
        "    print(fruit)\n",
        "count = 1\n",
        "while count <= 5:\n",
        "    print(count)\n",
        "    count += 1\n",
        ""
      ],
      "metadata": {
        "colab": {
          "base_uri": "https://localhost:8080/"
        },
        "id": "wF51YVIcO9JX",
        "outputId": "7de8b136-f33d-45ef-b851-84e2e54ba5b0"
      },
      "execution_count": 6,
      "outputs": [
        {
          "output_type": "stream",
          "name": "stdout",
          "text": [
            "Mango\n",
            "banana\n",
            "cherry\n",
            "1\n",
            "2\n",
            "3\n",
            "4\n",
            "5\n"
          ]
        }
      ]
    }
  ]
}